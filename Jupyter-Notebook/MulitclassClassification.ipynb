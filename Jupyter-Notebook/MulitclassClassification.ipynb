{
 "metadata": {
  "language_info": {
   "codemirror_mode": {
    "name": "ipython",
    "version": 3
   },
   "file_extension": ".py",
   "mimetype": "text/x-python",
   "name": "python",
   "nbconvert_exporter": "python",
   "pygments_lexer": "ipython3",
   "version": "3.7.9-final"
  },
  "orig_nbformat": 2,
  "kernelspec": {
   "name": "python3",
   "display_name": "Python 3.7.9 64-bit",
   "metadata": {
    "interpreter": {
     "hash": "b77c44ae5c7d02aadb41a894674b26936d09396330e056a456d3f5b8aeb863fb"
    }
   }
  }
 },
 "nbformat": 4,
 "nbformat_minor": 2,
 "cells": [
  {
   "source": [
    "## Programming Exercise 3 - Multi-class Classification and Neural Networks"
   ],
   "cell_type": "markdown",
   "metadata": {}
  },
  {
   "cell_type": "code",
   "execution_count": 1,
   "metadata": {},
   "outputs": [],
   "source": [
    "# %load ../../standard_import.txt\n",
    "import pandas as pd\n",
    "import numpy as np\n",
    "import matplotlib as mpl\n",
    "import matplotlib.pyplot as plt\n",
    "import seaborn as sns\n",
    "\n",
    "from scipy.io import loadmat\n",
    "from scipy.optimize import minimize\n",
    "from sklearn.linear_model import LogisticRegression\n",
    "\n",
    "pd.set_option('display.notebook_repr_html', False)\n",
    "pd.set_option('display.max_columns', None)\n",
    "pd.set_option('display.max_rows', 150)\n",
    "pd.set_option('display.max_seq_items', None)\n",
    "\n",
    "# %config InlineBackend.figure_formats = {'pdf', }\n",
    "%matplotlib inline\n",
    "\n",
    "sns.set_context('notebook')\n",
    "sns.set_style('white')"
   ]
  },
  {
   "source": [
    "#### Load MATLAB datafiles"
   ],
   "cell_type": "markdown",
   "metadata": {}
  },
  {
   "cell_type": "code",
   "execution_count": 2,
   "metadata": {},
   "outputs": [
    {
     "output_type": "execute_result",
     "data": {
      "text/plain": [
       "dict_keys(['__header__', '__version__', '__globals__', 'X', 'y'])"
      ]
     },
     "metadata": {},
     "execution_count": 2
    }
   ],
   "source": [
    "data = loadmat('data\\HandwritingData.mat')\n",
    "data.keys()"
   ]
  },
  {
   "cell_type": "code",
   "execution_count": 3,
   "metadata": {},
   "outputs": [
    {
     "output_type": "execute_result",
     "data": {
      "text/plain": [
       "dict_keys(['__header__', '__version__', '__globals__', 'Theta1', 'Theta2'])"
      ]
     },
     "metadata": {},
     "execution_count": 3
    }
   ],
   "source": [
    "weights = loadmat('data/InitialWeights.mat')\n",
    "weights.keys()"
   ]
  },
  {
   "cell_type": "code",
   "execution_count": 4,
   "metadata": {},
   "outputs": [
    {
     "output_type": "stream",
     "name": "stdout",
     "text": [
      "X: (5000, 401) (with intercept)\ny: (5000, 1)\n"
     ]
    }
   ],
   "source": [
    "y = data['y']\n",
    "\n",
    "# add constant for intercept\n",
    "X = np.c_[np.ones((data['X'].shape[0], 1)), data['X']]\n",
    "\n",
    "print('X: {} (with intercept)'.format(X.shape))\n",
    "print('y: {}'.format(y.shape))"
   ]
  },
  {
   "cell_type": "code",
   "execution_count": 5,
   "metadata": {},
   "outputs": [
    {
     "output_type": "stream",
     "name": "stdout",
     "text": [
      "theta1: (25, 401)\ntheta2: (10, 26)\n"
     ]
    }
   ],
   "source": [
    "theta1, theta2 = weights['Theta1'], weights['Theta2']\n",
    "\n",
    "print('theta1: {}'.format(theta1.shape))\n",
    "print('theta2: {}'.format(theta2.shape))"
   ]
  },
  {
   "cell_type": "code",
   "execution_count": 6,
   "metadata": {},
   "outputs": [
    {
     "output_type": "display_data",
     "data": {
      "text/plain": "<Figure size 432x288 with 1 Axes>",
      "image/svg+xml": "<?xml version=\"1.0\" encoding=\"utf-8\" standalone=\"no\"?>\r\n<!DOCTYPE svg PUBLIC \"-//W3C//DTD SVG 1.1//EN\"\r\n  \"http://www.w3.org/Graphics/SVG/1.1/DTD/svg11.dtd\">\r\n<!-- Created with matplotlib (https://matplotlib.org/) -->\r\n<svg height=\"31.14pt\" version=\"1.1\" viewBox=\"0 0 349.2 31.14\" width=\"349.2pt\" xmlns=\"http://www.w3.org/2000/svg\" xmlns:xlink=\"http://www.w3.org/1999/xlink\">\r\n <metadata>\r\n  <rdf:RDF xmlns:cc=\"http://creativecommons.org/ns#\" xmlns:dc=\"http://purl.org/dc/elements/1.1/\" xmlns:rdf=\"http://www.w3.org/1999/02/22-rdf-syntax-ns#\">\r\n   <cc:Work>\r\n    <dc:type rdf:resource=\"http://purl.org/dc/dcmitype/StillImage\"/>\r\n    <dc:date>2021-01-14T08:35:45.987586</dc:date>\r\n    <dc:format>image/svg+xml</dc:format>\r\n    <dc:creator>\r\n     <cc:Agent>\r\n      <dc:title>Matplotlib v3.3.3, https://matplotlib.org/</dc:title>\r\n     </cc:Agent>\r\n    </dc:creator>\r\n   </cc:Work>\r\n  </rdf:RDF>\r\n </metadata>\r\n <defs>\r\n  <style type=\"text/css\">*{stroke-linecap:butt;stroke-linejoin:round;}</style>\r\n </defs>\r\n <g id=\"figure_1\">\r\n  <g id=\"patch_1\">\r\n   <path d=\"M 0 31.14 \r\nL 349.2 31.14 \r\nL 349.2 0 \r\nL 0 0 \r\nz\r\n\" style=\"fill:#ffffff;\"/>\r\n  </g>\r\n  <g id=\"axes_1\">\r\n   <g clip-path=\"url(#p56cd4afa6b)\">\r\n    <image height=\"17\" id=\"imaged72d5364af\" transform=\"scale(1 -1)translate(0 -17)\" width=\"335\" x=\"7.2\" xlink:href=\"data:image/png;base64,\r\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\" y=\"-6.94\"/>\r\n   </g>\r\n  </g>\r\n </g>\r\n <defs>\r\n  <clipPath id=\"p56cd4afa6b\">\r\n   <rect height=\"16.74\" width=\"334.8\" x=\"7.2\" y=\"7.2\"/>\r\n  </clipPath>\r\n </defs>\r\n</svg>\r\n",
      "image/png": "[encoded data removed]"
     },
     "metadata": {}
    }
   ],
   "source": [
    "sample = np.random.choice(X.shape[0], 20)\n",
    "plt.imshow(X[sample, 1:].reshape(-1, 20).T)\n",
    "plt.axis('off');"
   ]
  },
  {
   "source": [
    "### Multiclass Classification"
   ],
   "cell_type": "markdown",
   "metadata": {}
  },
  {
   "source": [
    "#### Logistic regression hypothesis\n",
    "#### $$ h_{\\theta}(x) = g(\\theta^{T}x)$$\n",
    "#### $$ g(z)=\\frac{1}{1+e^{−z}} $$"
   ],
   "cell_type": "markdown",
   "metadata": {}
  },
  {
   "cell_type": "code",
   "execution_count": 7,
   "metadata": {},
   "outputs": [],
   "source": [
    "def sigmoid(z):\n",
    "    return (1 / (1 + np.exp(-z)))"
   ]
  },
  {
   "source": [
    "#### Regularized Cost Function \n",
    "#### $$ J(\\theta) = \\frac{1}{m}\\sum_{i=1}^{m}\\big[-y^{(i)}\\, log\\,( h_\\theta\\,(x^{(i)}))-(1-y^{(i)})\\,log\\,(1-h_\\theta(x^{(i)}))\\big] + \\frac{\\lambda}{2m}\\sum_{j=1}^{n}\\theta_{j}^{2}$$\n",
    "#### Vectorized Cost Function\n",
    "#### $$ J(\\theta) = \\frac{1}{m}\\big((\\,log\\,(g(X\\theta))^Ty+(\\,log\\,(1-g(X\\theta))^T(1-y)\\big) + \\frac{\\lambda}{2m}\\sum_{j=1}^{n}\\theta_{j}^{2}$$"
   ],
   "cell_type": "markdown",
   "metadata": {}
  },
  {
   "cell_type": "code",
   "execution_count": 8,
   "metadata": {},
   "outputs": [],
   "source": [
    "def cost_function_regularized(theta, reg, X, y):\n",
    "    m = y.size\n",
    "    h = sigmoid(X.dot(theta))\n",
    "    \n",
    "    J = -1 * (1/m) * (np.log(h).T.dot(y) + np.log(1 - h).T.dot(1 - y)) + (reg / (2*m)) * np.sum(np.square(theta[1:]))\n",
    "\n",
    "    if np.isnan(J[0]):\n",
    "        return (np.inf)\n",
    "    return (J[0])"
   ]
  },
  {
   "cell_type": "code",
   "execution_count": 9,
   "metadata": {},
   "outputs": [],
   "source": [
    "def gradient_regularized(theta, reg, X, y):\n",
    "    m = y.size\n",
    "    h = sigmoid(X.dot(theta.reshape(-1, 1)))\n",
    "\n",
    "    grad = (1/m) * X.T.dot(h - y) + (reg/m) * np.r_[[[0]], theta[1:].reshape(-1, 1)]\n",
    "\n",
    "    return (grad.flatten())"
   ]
  },
  {
   "source": [
    "#### One-vs-all Classification"
   ],
   "cell_type": "markdown",
   "metadata": {}
  },
  {
   "cell_type": "code",
   "execution_count": 10,
   "metadata": {},
   "outputs": [],
   "source": [
    "def one_vs_all(features, classes, n_labels, reg):\n",
    "    initial_theta = np.zeros((X.shape[1], 1)) # 401 x 1\n",
    "    all_theta = np.zeros((n_labels, X.shape[1])) # 10 x 401\n",
    "\n",
    "    for c in np.arange(1, n_labels + 1):\n",
    "        result = minimize(cost_function_regularized, initial_theta, args=(reg, features, (classes == c) * 1), method=None, jac=gradient_regularized, options={'maxiter': 50})\n",
    "        all_theta[c-1] = result.x\n",
    "    \n",
    "    return (all_theta)"
   ]
  },
  {
   "cell_type": "code",
   "execution_count": 11,
   "metadata": {},
   "outputs": [],
   "source": [
    "theta = one_vs_all(X, y, 10, 0.1)"
   ]
  },
  {
   "source": [
    "#### One-vs-all Prediction"
   ],
   "cell_type": "markdown",
   "metadata": {}
  },
  {
   "cell_type": "code",
   "execution_count": 12,
   "metadata": {},
   "outputs": [],
   "source": [
    "def predict_one_vs_all(all_theta, features):\n",
    "    p = sigmoid(X.dot(all_theta.T))\n",
    "\n",
    "    # adding one because python uses zero-based indexing for 10 columns (0-9)\n",
    "    # while the 10 classes are numbered from 1 to 10\n",
    "    return (np.argmax(p, axis=1) + 1)"
   ]
  },
  {
   "cell_type": "code",
   "execution_count": 13,
   "metadata": {},
   "outputs": [
    {
     "output_type": "stream",
     "name": "stdout",
     "text": [
      "Training set accuracy: 93.24 %\n"
     ]
    }
   ],
   "source": [
    "pred = predict_one_vs_all(theta, X)\n",
    "\n",
    "print('Training set accuracy: {} %'.format(np.mean(pred == y.ravel()) * 100))"
   ]
  },
  {
   "source": [
    "#### Multiclass Logistic Regression with scikit-learn"
   ],
   "cell_type": "markdown",
   "metadata": {}
  },
  {
   "cell_type": "code",
   "execution_count": 14,
   "metadata": {},
   "outputs": [
    {
     "output_type": "execute_result",
     "data": {
      "text/plain": [
       "LogisticRegression(C=10, solver='liblinear')"
      ]
     },
     "metadata": {},
     "execution_count": 14
    }
   ],
   "source": [
    "clf = LogisticRegression(C=10, penalty='l2', solver='liblinear')\n",
    "\n",
    "# Scikit-learn fits intercept automatically, so we exclude first column with 'ones' from X when fitting.\n",
    "clf.fit(X[:, 1:], y.ravel())"
   ]
  },
  {
   "cell_type": "code",
   "execution_count": 15,
   "metadata": {},
   "outputs": [
    {
     "output_type": "stream",
     "name": "stdout",
     "text": [
      "Training set accuracy: 96.5 %\n"
     ]
    }
   ],
   "source": [
    "pred2 = clf.predict(X[:, 1:])\n",
    "print('Training set accuracy: {} %'.format(np.mean(pred2 == y.ravel()) * 100))"
   ]
  },
  {
   "source": [
    "### Neural Networks"
   ],
   "cell_type": "markdown",
   "metadata": {}
  },
  {
   "cell_type": "code",
   "execution_count": 16,
   "metadata": {},
   "outputs": [],
   "source": [
    "def predict(theta1, theta2, features):\n",
    "    z2 = theta1.dot(features.T)\n",
    "    a2 = np.c_[np.ones((data['X'].shape[0], 1)), sigmoid(z2).T]\n",
    "\n",
    "    z3 = a2.dot(theta2.T)\n",
    "    a3 = sigmoid(z3)\n",
    "\n",
    "    return (np.argmax(a3, axis=1) + 1)"
   ]
  },
  {
   "cell_type": "code",
   "execution_count": 17,
   "metadata": {},
   "outputs": [
    {
     "output_type": "stream",
     "name": "stdout",
     "text": [
      "Training set accuracy: 97.52 %\n"
     ]
    }
   ],
   "source": [
    "pred = predict(theta1, theta2, X)\n",
    "print('Training set accuracy: {} %'.format(np.mean(pred == y.ravel())* 100))"
   ]
  },
  {
   "cell_type": "code",
   "execution_count": null,
   "metadata": {},
   "outputs": [],
   "source": []
  }
 ]
}